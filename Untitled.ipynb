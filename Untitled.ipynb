{
 "cells": [
  {
   "cell_type": "code",
   "execution_count": 27,
   "id": "0c034820-c012-467f-a166-cb837f83cf01",
   "metadata": {},
   "outputs": [],
   "source": [
    "from langchain.document_loaders import WebBaseLoader\n",
    "from langchain.document_transformers import Html2TextTransformer\n",
    "from langchain.docstore.document import Document\n",
    "import json"
   ]
  },
  {
   "cell_type": "code",
   "execution_count": 29,
   "id": "985a27ff-733b-49ff-a5d6-e4abb47bacae",
   "metadata": {},
   "outputs": [],
   "source": [
    "docs = []\n",
    "\n",
    "url = [\"https://apty717.zendesk.com/api/v2/help_center/articles\"]\n",
    "\n",
    "while(url[0]!=None):\n",
    "    loader = WebBaseLoader(url)\n",
    "    data = json.loads(loader.load()[0].page_content)\n",
    "    for d in data['articles']:\n",
    "        docs.append(Document(page_content=d['body'], metadata={\"source\": d['html_url'], \"title\":d['title']}))\n",
    "    url = [data['next_page']]\n",
    "\n",
    "html2text = Html2TextTransformer()\n",
    "docs_transformed = html2text.transform_documents(docs)"
   ]
  },
  {
   "cell_type": "code",
   "execution_count": 7,
   "id": "e74b7c63-8084-434c-89b5-a662bcf692ac",
   "metadata": {},
   "outputs": [],
   "source": []
  },
  {
   "cell_type": "code",
   "execution_count": null,
   "id": "f299d055-21ce-46ea-a3aa-a5cf50a34ab5",
   "metadata": {},
   "outputs": [],
   "source": [
    "l = ['a', 'b']"
   ]
  },
  {
   "cell_type": "code",
   "execution_count": 34,
   "id": "c445ea0e-4d7d-4bab-aa56-639834784147",
   "metadata": {},
   "outputs": [
    {
     "data": {
      "text/plain": [
       "5011.0"
      ]
     },
     "execution_count": 34,
     "metadata": {},
     "output_type": "execute_result"
    }
   ],
   "source": [
    "10022/2"
   ]
  },
  {
   "cell_type": "code",
   "execution_count": 30,
   "id": "d77345a6-8b89-4fb9-b4bf-dc7bd3f172ee",
   "metadata": {},
   "outputs": [],
   "source": []
  },
  {
   "cell_type": "code",
   "execution_count": 37,
   "id": "d05ca0b8-c184-4a6e-9ebb-16077e058310",
   "metadata": {},
   "outputs": [
    {
     "data": {
      "text/plain": [
       "2206"
      ]
     },
     "execution_count": 37,
     "metadata": {},
     "output_type": "execute_result"
    }
   ],
   "source": [
    "len(docs_transformed[0].page_content)"
   ]
  },
  {
   "cell_type": "code",
   "execution_count": 38,
   "id": "e4965a1f-5668-4fbf-aec3-8f5a9f636a4b",
   "metadata": {},
   "outputs": [],
   "source": [
    "from langchain.text_splitter import RecursiveCharacterTextSplitter"
   ]
  },
  {
   "cell_type": "code",
   "execution_count": 39,
   "id": "74238fdb-d745-4083-95d1-a194d778622b",
   "metadata": {},
   "outputs": [],
   "source": [
    "text_splitter = RecursiveCharacterTextSplitter(chunk_size=2000, chunk_overlap=200)"
   ]
  },
  {
   "cell_type": "code",
   "execution_count": 43,
   "id": "56bd2d5b-b5be-4c59-8e2f-f89c7238116c",
   "metadata": {},
   "outputs": [
    {
     "data": {
      "text/plain": [
       "[Document(page_content=\"With Apty's **Audit Trail** , you can keep track of every action made on your\\nApty Content, along with the date and time, the user who made it, the\\napplication it was made on, and other details.\\n\\n**Note** :\\n\\n  * Upgrade to Apty version **4.22.x** or above for complete access to Audit Trail. Version 4.21 and below will display only limited information on the page.\\n\\n  * Apty displays the Audit Trail in your Admin Portal that is upto **90** days old.\\n\\n  * Only **System Admins** and **Content Creators** can view the Audit Trail section in the Admin Portal.\\n  * Apty currently supports Audit Trail for Content such as **Workflows** , **Validations** , **Launchers** , **Tooltips** , **Announcements** , **Checklist** , and **Knowledge Center Content**.\\n\\n  \\n---  \\n  \\nTo access the Audit Trail,\\n\\n1\\\\. Login to the **Admin Portal**.\\n\\n2\\\\. Click **System Settings** in the left panel.\\n\\n3\\\\. In the System Settings page, click the **Audit Trail** tab.\\n\\nThe **Audit Trail** page displays the following list of items:\\n\\n**Attributes** | **Description**  \\n---|---  \\nTIME | The date and time at which the action was performed.  \\n  \\nUSER\\n\\n| The user who performed the action.  \\nAPPLICATION | The application on which the action was performed.  \\nACTION |\\n\\nThe type of action performed on the content as follows:\\n\\n  * Created\\n  * Deleted\\n  * Modified\\n  * Published\\n  * Unpublished\\n  * Reverted\\n\\n  \\nDESCRIPTION | A brief description on the change log of the content.  \\n  \\n4\\\\. Hover your cursor over an Audit Trail and then click the **Details**\\nbutton to view a detailed description of your Apty Content's **Properties**\\nand **Change Log**.\\n\\n5\\\\. Click **Close** or the **x** icon to close the pop-up.\\n\\n**Info** :\", metadata={'source': 'https://support.apty.io/hc/en-us/articles/18180601168539-Audit-Trail-Overview', 'title': 'Audit Trail Overview'}),\n",
       " Document(page_content=\"5\\\\. Click **Close** or the **x** icon to close the pop-up.\\n\\n**Info** :\\n\\n  * You can also filter your Apty content based on the content type, application type, action type, or the date you want to sort your content for. \\n  * You can quickly search a particular Content's Audit Trail using the **User name** or **Content name** in the **Search** bar.\\n  * Clicking the **Export CSV** button sends a download link of the Audit Trail to your email, where you can download the file from. \\n  * Regardless of the Content language, the Audit Log will be exported only in English.\\n\\n  \\n---\", metadata={'source': 'https://support.apty.io/hc/en-us/articles/18180601168539-Audit-Trail-Overview', 'title': 'Audit Trail Overview'})]"
      ]
     },
     "execution_count": 43,
     "metadata": {},
     "output_type": "execute_result"
    }
   ],
   "source": [
    "text_splitter.split_documents([docs_transformed[0]])"
   ]
  },
  {
   "cell_type": "code",
   "execution_count": 44,
   "id": "07d267c0-9e9e-469d-9188-d6703043a7df",
   "metadata": {},
   "outputs": [],
   "source": [
    "from langchain.prompts.prompt import PromptTemplate\n",
    "\n",
    "_template = \"\"\"Given the following conversation and a follow up question, rephrase the follow up question to be a standalone question, in its original language.\n",
    "\n",
    "Chat History:\n",
    "{chat_history}\n",
    "Follow Up Input: {question}\n",
    "Standalone question:\"\"\"\n"
   ]
  },
  {
   "cell_type": "code",
   "execution_count": 45,
   "id": "b6e348da-c621-4cc1-b888-c0fad09dfb9e",
   "metadata": {},
   "outputs": [
    {
     "data": {
      "text/plain": [
       "PromptTemplate(input_variables=['chat_history', 'question'], template='Given the following conversation and a follow up question, rephrase the follow up question to be a standalone question, in its original language.\\n\\nChat History:\\n{chat_history}\\nFollow Up Input: {question}\\nStandalone question:')"
      ]
     },
     "execution_count": 45,
     "metadata": {},
     "output_type": "execute_result"
    }
   ],
   "source": [
    "PromptTemplate.from_template(_template)"
   ]
  },
  {
   "cell_type": "code",
   "execution_count": 46,
   "id": "86c88945-d8b9-4661-be89-e4d0b48950ec",
   "metadata": {},
   "outputs": [],
   "source": [
    "prompt_template = \"\"\"Use the following pieces of context to answer the question at the end. If you don't know the answer, just say that you don't know, don't try to make up an answer.\n",
    "\n",
    "{context}\n",
    "\n",
    "Question: {question}\n",
    "Helpful Answer:\"\"\"\n",
    "# QA_PROMPT = "
   ]
  },
  {
   "cell_type": "code",
   "execution_count": 47,
   "id": "eaabc23d-074d-4996-8aac-65eac13cbc29",
   "metadata": {},
   "outputs": [
    {
     "data": {
      "text/plain": [
       "PromptTemplate(input_variables=['context', 'question'], template=\"Use the following pieces of context to answer the question at the end. If you don't know the answer, just say that you don't know, don't try to make up an answer.\\n\\n{context}\\n\\nQuestion: {question}\\nHelpful Answer:\")"
      ]
     },
     "execution_count": 47,
     "metadata": {},
     "output_type": "execute_result"
    }
   ],
   "source": [
    "PromptTemplate(\n",
    "    template=prompt_template, input_variables=[\"context\", \"question\"]\n",
    ")"
   ]
  },
  {
   "cell_type": "code",
   "execution_count": 48,
   "id": "587acab5-45ba-4f09-8944-d3a4d00361c6",
   "metadata": {
    "scrolled": true
   },
   "outputs": [
    {
     "ename": "NameError",
     "evalue": "name 'SystemMessagePromptTemplate' is not defined",
     "output_type": "error",
     "traceback": [
      "\u001b[1;31m---------------------------------------------------------------------------\u001b[0m",
      "\u001b[1;31mNameError\u001b[0m                                 Traceback (most recent call last)",
      "Cell \u001b[1;32mIn[48], line 2\u001b[0m\n\u001b[0;32m      1\u001b[0m templates \u001b[38;5;241m=\u001b[39m [\n\u001b[1;32m----> 2\u001b[0m     \u001b[43mSystemMessagePromptTemplate\u001b[49m\u001b[38;5;241m.\u001b[39mfrom_template(\n\u001b[0;32m      3\u001b[0m         prompts\u001b[38;5;241m.\u001b[39msystem_prompt_v1,\n\u001b[0;32m      4\u001b[0m         input_variables\u001b[38;5;241m=\u001b[39m[\u001b[38;5;124m\"\u001b[39m\u001b[38;5;124mcontext\u001b[39m\u001b[38;5;124m\"\u001b[39m, \u001b[38;5;124m\"\u001b[39m\u001b[38;5;124msource\u001b[39m\u001b[38;5;124m\"\u001b[39m, \u001b[38;5;124m\"\u001b[39m\u001b[38;5;124mpage_number\u001b[39m\u001b[38;5;124m\"\u001b[39m],\n\u001b[0;32m      5\u001b[0m     ),\n\u001b[0;32m      6\u001b[0m     HumanMessagePromptTemplate\u001b[38;5;241m.\u001b[39mfrom_template(\n\u001b[0;32m      7\u001b[0m         prompts\u001b[38;5;241m.\u001b[39muser_prompt,\n\u001b[0;32m      8\u001b[0m         input_variables\u001b[38;5;241m=\u001b[39m[\u001b[38;5;124m\"\u001b[39m\u001b[38;5;124mcontext\u001b[39m\u001b[38;5;124m\"\u001b[39m, \u001b[38;5;124m\"\u001b[39m\u001b[38;5;124msource\u001b[39m\u001b[38;5;124m\"\u001b[39m, \u001b[38;5;124m\"\u001b[39m\u001b[38;5;124mpage_number\u001b[39m\u001b[38;5;124m\"\u001b[39m],\n\u001b[0;32m      9\u001b[0m     ),\n\u001b[0;32m     10\u001b[0m ]\n\u001b[0;32m     11\u001b[0m ChatPromptTemplate\u001b[38;5;241m.\u001b[39mfrom_messages(templates)\n",
      "\u001b[1;31mNameError\u001b[0m: name 'SystemMessagePromptTemplate' is not defined"
     ]
    }
   ],
   "source": [
    "templates = [\n",
    "    SystemMessagePromptTemplate.from_template(\n",
    "        prompts.system_prompt_v1,\n",
    "        input_variables=[\"context\", \"source\", \"page_number\"],\n",
    "    ),\n",
    "    HumanMessagePromptTemplate.from_template(\n",
    "        prompts.user_prompt,\n",
    "        input_variables=[\"context\", \"source\", \"page_number\"],\n",
    "    ),\n",
    "]\n",
    "ChatPromptTemplate.from_messages(templates)"
   ]
  },
  {
   "cell_type": "code",
   "execution_count": null,
   "id": "256a8bcc-2eff-425d-97be-f4a20fdbe882",
   "metadata": {},
   "outputs": [],
   "source": []
  }
 ],
 "metadata": {
  "kernelspec": {
   "display_name": "Python 3 (ipykernel)",
   "language": "python",
   "name": "python3"
  },
  "language_info": {
   "codemirror_mode": {
    "name": "ipython",
    "version": 3
   },
   "file_extension": ".py",
   "mimetype": "text/x-python",
   "name": "python",
   "nbconvert_exporter": "python",
   "pygments_lexer": "ipython3",
   "version": "3.9.18"
  }
 },
 "nbformat": 4,
 "nbformat_minor": 5
}
